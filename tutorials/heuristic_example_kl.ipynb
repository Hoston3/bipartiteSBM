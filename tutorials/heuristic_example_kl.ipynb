{
 "cells": [
  {
   "cell_type": "markdown",
   "metadata": {},
   "source": [
    "Include the upper directory to the path to access the library."
   ]
  },
  {
   "cell_type": "code",
   "execution_count": 3,
   "metadata": {},
   "outputs": [],
   "source": [
    "import os\n",
    "import sys\n",
    "module_path = os.path.abspath(os.path.join('..'))\n",
    "if module_path not in sys.path:\n",
    "    sys.path.append(module_path)"
   ]
  },
  {
   "cell_type": "markdown",
   "metadata": {},
   "source": [
    "In this example, we use the Kernighan-Lin algorithm for graph partition."
   ]
  },
  {
   "cell_type": "code",
   "execution_count": 4,
   "metadata": {},
   "outputs": [],
   "source": [
    "from engines.kl import *\n",
    "\n",
    "kl = KL(f_engine=\"../engines/bipartiteSBM-KL/biSBM\",\n",
    "        n_sweeps=2,\n",
    "        is_parallel=True,\n",
    "        n_cores=2,\n",
    "        kl_edgelist_delimiter=\"\\t\",                        # [KL] due to the KL code accepts 1-indexed nodes by default, we used the delimiter to transform our 0-indexed input.  \n",
    "        kl_steps=5,                                    \n",
    "        kl_itertimes=1,\n",
    "        f_kl_output=\"../engines/bipartiteSBM-KL/f_kl_output\"  # [KL] path to the KL output dir; recommended to be in the same folder as the binary\n",
    "    )"
   ]
  },
  {
   "cell_type": "markdown",
   "metadata": {},
   "source": [
    "Here, we initiate the Python class for the heuristic."
   ]
  },
  {
   "cell_type": "code",
   "execution_count": 5,
   "metadata": {},
   "outputs": [],
   "source": [
    "from det_k_bisbm.optimalks import *\n",
    "from det_k_bisbm.ioutils import *\n",
    "\n",
    "edgelist = get_edgelist(\"../dataset/bisbm-n_1000-ka_4-kb_6-r-1.0-Ka_30-Ir_1.75.gt.edgelist\", \"\\t\")\n",
    "types= kl.gen_types(500, 500)\n",
    "\n",
    "oks = OptimalKs(kl, edgelist, types)\n",
    "oks.set_params(init_ka=10, init_kb=10, i_th=0.1)\n",
    "oks.set_adaptive_ratio(0.9)\n",
    "oks.set_exist_bookkeeping(True)"
   ]
  },
  {
   "cell_type": "markdown",
   "metadata": {},
   "source": [
    "We could also generate a command-line string for single-point computation. "
   ]
  },
  {
   "cell_type": "code",
   "execution_count": 6,
   "metadata": {},
   "outputs": [
    {
     "data": {
      "text/plain": [
       "'../engines/bipartiteSBM-KL/biSBM ../engines/bipartiteSBM-KL/f_kl_output/9a5ba86e8672894b3c8cbe67037a66d3/0410eec6b6f93929eda5eaba6e003658_1-indexed.edgelist ../engines/bipartiteSBM-KL/f_kl_output/9a5ba86e8672894b3c8cbe67037a66d3/0410eec6b6f93929eda5eaba6e003658.types ../engines/bipartiteSBM-KL/f_kl_output/9a5ba86e8672894b3c8cbe67037a66d3 10 10 1 5'"
      ]
     },
     "execution_count": 6,
     "metadata": {},
     "output_type": "execute_result"
    }
   ],
   "source": [
    "kl.prepare_engine(\"../dataset/bisbm-n_1000-ka_4-kb_6-r-1.0-Ka_30-Ir_1.75.gt.edgelist\", 500, 500, 10, 10)"
   ]
  },
  {
   "cell_type": "markdown",
   "metadata": {},
   "source": [
    "Let's start by (10, 10) and see how the heuristic finds (4, 6)."
   ]
  },
  {
   "cell_type": "code",
   "execution_count": 7,
   "metadata": {},
   "outputs": [
    {
     "name": "stdout",
     "output_type": "stream",
     "text": [
      "[INFO] Now computing graph partition at (10, 10) ...\n",
      "... DONE.\n",
      "[INFO] Now computing graph partition at (4, 4) ...\n",
      "... DONE.\n",
      "[INFO] Now computing graph partition at (3, 4) ...\n",
      "... DONE.\n",
      "[INFO] Now computing graph partition at (4, 3) ...\n",
      "... DONE.\n",
      "[INFO] Now computing graph partition at (3, 3) ...\n",
      "... DONE.\n",
      "[INFO] check all the adjacent points near (4, 4)\n",
      "[INFO] Now computing graph partition at (5, 4) ...\n",
      "... DONE.\n",
      "[INFO] Now computing graph partition at (4, 5) ...\n",
      "... DONE.\n",
      "[INFO] Now computing graph partition at (5, 3) ...\n",
      "... DONE.\n",
      "[INFO] Now computing graph partition at (3, 5) ...\n",
      "... DONE.\n",
      "[INFO] Now computing graph partition at (5, 5) ...\n",
      "... DONE.\n",
      "[INFO] Found (4, 5) that gives a even lower description length ...\n",
      "[INFO] Now computing graph partition at (4, 4) ...\n",
      "... DONE.\n",
      "[INFO] Now computing graph partition at (4, 4) ...\n",
      "... DONE.\n",
      "[INFO] Now computing graph partition at (4, 4) ...\n",
      "... DONE.\n",
      "[INFO] Now computing graph partition at (4, 5) ...\n",
      "... DONE.\n",
      "[INFO] Now computing graph partition at (3, 5) ...\n",
      "... DONE.\n",
      "[INFO] Now computing graph partition at (4, 4) ...\n",
      "... DONE.\n",
      "[INFO] Now computing graph partition at (3, 4) ...\n",
      "... DONE.\n",
      "[INFO] check all the adjacent points near (4, 5)\n",
      "[INFO] Now computing graph partition at (5, 5) ...\n",
      "... DONE.\n",
      "[INFO] Now computing graph partition at (4, 6) ...\n",
      "... DONE.\n",
      "[INFO] Now computing graph partition at (5, 4) ...\n",
      "... DONE.\n",
      "[INFO] Now computing graph partition at (3, 6) ...\n",
      "... DONE.\n",
      "[INFO] Now computing graph partition at (5, 6) ...\n",
      "... DONE.\n",
      "[INFO] Found (4, 6) that gives a even lower description length ...\n",
      "[INFO] Now computing graph partition at (4, 5) ...\n",
      "... DONE.\n",
      "[INFO] Now computing graph partition at (4, 5) ...\n",
      "... DONE.\n",
      "[INFO] Now computing graph partition at (4, 5) ...\n",
      "... DONE.\n",
      "[INFO] Now computing graph partition at (4, 5) ...\n",
      "... DONE.\n",
      "[INFO] Now computing graph partition at (4, 6) ...\n",
      "... DONE.\n",
      "[INFO] Now computing graph partition at (4, 5) ...\n",
      "... DONE.\n",
      "[INFO] Now computing graph partition at (3, 6) ...\n",
      "... DONE.\n",
      "[INFO] Now computing graph partition at (3, 5) ...\n",
      "... DONE.\n",
      "[INFO] check all the adjacent points near (4, 6)\n",
      "[INFO] Now computing graph partition at (5, 6) ...\n",
      "... DONE.\n",
      "[INFO] Now computing graph partition at (4, 7) ...\n",
      "... DONE.\n",
      "[INFO] Now computing graph partition at (5, 5) ...\n",
      "... DONE.\n",
      "[INFO] Now computing graph partition at (3, 7) ...\n",
      "... DONE.\n",
      "[INFO] Now computing graph partition at (5, 7) ...\n",
      "... DONE.\n",
      "[INFO] DONE: the MDL point is (4,6)\n"
     ]
    },
    {
     "data": {
      "text/plain": [
       "OrderedDict([((10, 10), -1.0620604909792974),\n",
       "             ((4, 4), -1.0814345373285017),\n",
       "             ((3, 4), -1.048071170501703),\n",
       "             ((4, 3), -1.0091928998700301),\n",
       "             ((3, 3), -1.0170963232628356),\n",
       "             ((5, 4), -1.0760455090557486),\n",
       "             ((4, 5), -1.0972210570995202),\n",
       "             ((5, 3), -0.99687526986909292),\n",
       "             ((3, 5), -1.058067803954581),\n",
       "             ((5, 5), -1.091388314684244),\n",
       "             ((4, 6), -1.0991802202102088),\n",
       "             ((3, 6), -1.0570973007063778),\n",
       "             ((5, 6), -1.0935558542894188),\n",
       "             ((4, 7), -1.095058523440601),\n",
       "             ((3, 7), -1.0533970845526486),\n",
       "             ((5, 7), -1.0900622957200621)])"
      ]
     },
     "execution_count": 7,
     "metadata": {},
     "output_type": "execute_result"
    }
   ],
   "source": [
    "oks.iterator()"
   ]
  },
  {
   "cell_type": "markdown",
   "metadata": {},
   "source": [
    "We could clean the history and re-compute the points again. Or, we could also do single-point re-computation."
   ]
  },
  {
   "cell_type": "code",
   "execution_count": 7,
   "metadata": {},
   "outputs": [],
   "source": [
    "# oks.clean()\n",
    "# oks.compute_and_update(4, 6, recompute=True)"
   ]
  },
  {
   "cell_type": "markdown",
   "metadata": {},
   "source": [
    "Let's plot the trace of the heuristic."
   ]
  },
  {
   "cell_type": "code",
   "execution_count": 8,
   "metadata": {},
   "outputs": [
    {
     "data": {
      "image/png": "[encoded data removed]",
      "text/plain": [
       "<matplotlib.figure.Figure at 0x8079566a0>"
      ]
     },
     "metadata": {},
     "output_type": "display_data"
    }
   ],
   "source": [
    "import matplotlib.pyplot as plt\n",
    "from matplotlib import collections  as mc\n",
    "\n",
    "trace = list(oks.trace_mb.keys())\n",
    "lines = []\n",
    "for ind, i in enumerate(trace):\n",
    "    if ind != len(trace) - 1:\n",
    "        lines += [(trace[ind], trace[ind+1])]\n",
    "\n",
    "lc = mc.LineCollection(lines, linewidths=2)\n",
    "fig, ax = plt.subplots()\n",
    "ax.add_collection(lc)\n",
    "\n",
    "# Pink circle marks the optimal point (ka, kb)\n",
    "p_estimate = sorted(oks.confident_desc_len, key=oks.confident_desc_len.get)[0]\n",
    "ax.scatter(p_estimate[0], p_estimate[1], marker=\"o\", c=\"pink\", s=200, alpha=0.5)\n",
    "\n",
    "# Black numbers indicate ordered points where graph partition takes place\n",
    "for idx, point in enumerate(oks.confident_desc_len.keys()):\n",
    "    plt.scatter(point[0], point[1], marker='${}$'.format(idx), c=\"black\", edgecolors=\"none\", s=100)\n",
    "\n",
    "ax.autoscale()\n",
    "ax.margins(0.1)\n",
    "\n",
    "ax.set_aspect(1)\n",
    "plt.xlabel(\"number of type-a communities: ka\")\n",
    "plt.ylabel(\"number of type-b communities: kb\")\n",
    "plt.xticks(range(3, 11))\n",
    "plt.yticks(range(3, 11))\n",
    "\n",
    "plt.show()"
   ]
  },
  {
   "cell_type": "code",
   "execution_count": null,
   "metadata": {},
   "outputs": [],
   "source": []
  }
 ],
 "metadata": {
  "kernelspec": {
   "display_name": "Python 3",
   "language": "python",
   "name": "python3"
  },
  "language_info": {
   "codemirror_mode": {
    "name": "ipython",
    "version": 3
   },
   "file_extension": ".py",
   "mimetype": "text/x-python",
   "name": "python",
   "nbconvert_exporter": "python",
   "pygments_lexer": "ipython3",
   "version": "3.6.2"
  }
 },
 "nbformat": 4,
 "nbformat_minor": 2
}
