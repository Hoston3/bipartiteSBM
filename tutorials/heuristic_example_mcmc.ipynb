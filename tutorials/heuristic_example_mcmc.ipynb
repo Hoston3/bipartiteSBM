{
 "cells": [
  {
   "cell_type": "markdown",
   "metadata": {},
   "source": [
    "Include the upper directory to the path to access the library."
   ]
  },
  {
   "cell_type": "code",
   "execution_count": 1,
   "metadata": {},
   "outputs": [],
   "source": [
    "import os\n",
    "import sys\n",
    "module_path = os.path.abspath(os.path.join('..'))\n",
    "if module_path not in sys.path:\n",
    "    sys.path.append(module_path)"
   ]
  },
  {
   "cell_type": "markdown",
   "metadata": {},
   "source": [
    "In this example, we use the Kernighan-Lin algorithm for graph partition."
   ]
  },
  {
   "cell_type": "code",
   "execution_count": 2,
   "metadata": {},
   "outputs": [],
   "source": [
    "from engines.mcmc import *\n",
    "mcmc = MCMC(f_engine=\"../engines/bipartiteSBM-MCMC/bin/mcmc\",  # path to the graph partitioning binary\n",
    "            n_sweeps=4,                                        # number of partitioning computations for each (K1, K2) data point\n",
    "            is_parallel=True,                                  # whether to compute the partitioning in parallel\n",
    "            n_cores=4,                                         # if `is_parallel == True`, the number of cores used   \n",
    "            mcmc_steps=1000000,                                # [MCMC] the number of sweeps\n",
    "            mcmc_await_steps=100000,                           # [MCMC] the number of sweeps to await until stopping the algorithm, if max(entropy) and min(entropy) show no change therein  \n",
    "            mcmc_cooling=\"constant\",                           # [MCMC] annealing scheme used. enum: [\"exponential\", \"logarithm\", \"linear\", \"constant\"].\n",
    "            mcmc_cooling_param_1=0.1,                          # [MCMC] parameter 1 for the annealing\n",
    "            mcmc_cooling_param_2=0.1,                          # [MCMC] parameter 2 for the annealing\n",
    "            mcmc_epsilon=0.01                                  # [MCMC] the \"epsilon\" value used in the algorithm\n",
    "        )"
   ]
  },
  {
   "cell_type": "markdown",
   "metadata": {},
   "source": [
    "Here, we initiate the Python class for the heuristic."
   ]
  },
  {
   "cell_type": "code",
   "execution_count": 3,
   "metadata": {},
   "outputs": [],
   "source": [
    "from det_k_bisbm.optimalks import *\n",
    "from det_k_bisbm.ioutils import *\n",
    "\n",
    "edgelist = get_edgelist(\"../dataset/malaria.edgelist\", \"\\t\")\n",
    "types= mcmc.gen_types(297, 806)\n",
    "\n",
    "oks = OptimalKs(mcmc, edgelist, types)\n",
    "oks.set_params(init_ka=15, init_kb=15, i_th=0.1)\n",
    "oks.set_adaptive_ratio(0.9)\n",
    "oks.set_exist_bookkeeping(True)\n",
    "oks.set_logging_level(\"info\")"
   ]
  },
  {
   "cell_type": "markdown",
   "metadata": {},
   "source": [
    "We could also generate a command-line string for single-point computation. "
   ]
  },
  {
   "cell_type": "code",
   "execution_count": 4,
   "metadata": {},
   "outputs": [
    {
     "data": {
      "text/plain": [
       "'../engines/bipartiteSBM-MCMC/bin/mcmc -e ../dataset/malaria.edgelist -n 25 25 25 25 25 25 25 25 25 24 24 24 90 90 90 90 90 89 89 89 89 -t 1000000 -x 100000 --maximize -c constant -a 0.1 -y 297 806 -z 12 9 -E 0.01 --randomize'"
      ]
     },
     "execution_count": 4,
     "metadata": {},
     "output_type": "execute_result"
    }
   ],
   "source": [
    "mcmc.prepare_engine(\"../dataset/malaria.edgelist\", 297, 806, 12, 9)"
   ]
  },
  {
   "cell_type": "markdown",
   "metadata": {},
   "source": [
    "Let's start by (15, 15) and see how the heuristic finds the number of communities. Please run it several times to ensure that the global minimum is found."
   ]
  },
  {
   "cell_type": "code",
   "execution_count": 5,
   "metadata": {},
   "outputs": [
    {
     "name": "stderr",
     "output_type": "stream",
     "text": [
      "2017-09-30 03:08:17,995:INFO:Now computing graph partition at (15, 15) ...\n",
      "2017-09-30 03:08:21,738:INFO:... DONE.\n",
      "2017-09-30 03:08:22,589:INFO:Now computing graph partition at (12, 11) ...\n",
      "2017-09-30 03:08:25,238:INFO:... DONE.\n",
      "2017-09-30 03:08:26,005:INFO:Now computing graph partition at (12, 12) ...\n",
      "2017-09-30 03:08:29,886:INFO:... DONE.\n",
      "2017-09-30 03:08:30,579:INFO:Now computing graph partition at (12, 13) ...\n",
      "2017-09-30 03:08:35,021:INFO:... DONE.\n",
      "2017-09-30 03:08:35,734:INFO:Now computing graph partition at (13, 12) ...\n",
      "2017-09-30 03:08:42,439:INFO:... DONE.\n",
      "2017-09-30 03:08:43,120:INFO:Now computing graph partition at (12, 14) ...\n",
      "2017-09-30 03:08:46,277:INFO:... DONE.\n",
      "2017-09-30 03:08:46,949:INFO:Now computing graph partition at (12, 14) ...\n",
      "2017-09-30 03:08:46,950:INFO:... fetch calculated data ...\n",
      "2017-09-30 03:08:46,951:INFO:... DONE.\n",
      "2017-09-30 03:08:47,584:INFO:Now computing graph partition at (13, 13) ...\n",
      "2017-09-30 03:08:51,618:INFO:... DONE.\n",
      "2017-09-30 03:08:52,274:INFO:Now computing graph partition at (13, 14) ...\n",
      "2017-09-30 03:08:55,651:INFO:... DONE.\n",
      "2017-09-30 03:08:55,651:INFO:Now computing graph partition at (13, 13) ...\n",
      "2017-09-30 03:08:55,652:INFO:... fetch calculated data ...\n",
      "2017-09-30 03:08:55,653:INFO:... DONE.\n",
      "2017-09-30 03:08:55,654:INFO:Now computing graph partition at (12, 14) ...\n",
      "2017-09-30 03:08:55,655:INFO:... fetch calculated data ...\n",
      "2017-09-30 03:08:55,656:INFO:... DONE.\n",
      "2017-09-30 03:08:55,658:INFO:Now computing graph partition at (12, 13) ...\n",
      "2017-09-30 03:08:55,659:INFO:... fetch calculated data ...\n",
      "2017-09-30 03:08:55,660:INFO:... DONE.\n",
      "2017-09-30 03:08:55,661:INFO:check all the adjacent points near (13, 14)\n",
      "2017-09-30 03:08:55,662:INFO:Now computing graph partition at (14, 14) ...\n",
      "2017-09-30 03:09:00,920:INFO:... DONE.\n",
      "2017-09-30 03:09:00,920:INFO:Now computing graph partition at (13, 15) ...\n",
      "2017-09-30 03:09:04,471:INFO:... DONE.\n",
      "2017-09-30 03:09:04,473:INFO:Now computing graph partition at (14, 13) ...\n",
      "2017-09-30 03:09:07,616:INFO:... DONE.\n",
      "2017-09-30 03:09:07,617:INFO:Now computing graph partition at (12, 15) ...\n",
      "2017-09-30 03:09:11,696:INFO:... DONE.\n",
      "2017-09-30 03:09:11,697:INFO:Now computing graph partition at (14, 15) ...\n",
      "2017-09-30 03:09:15,269:INFO:... DONE.\n",
      "2017-09-30 03:09:15,271:INFO:DONE: the MDL point is (13,14)\n"
     ]
    },
    {
     "data": {
      "text/plain": [
       "OrderedDict([((15, 15), -0.88532071173144411),\n",
       "             ((12, 11), -0.80879428008080101),\n",
       "             ((12, 12), -0.80059869694251018),\n",
       "             ((12, 13), -0.80792045173712446),\n",
       "             ((13, 12), -0.85849433053063129),\n",
       "             ((12, 14), -0.86357016443349877),\n",
       "             ((13, 13), -0.83160888619347229),\n",
       "             ((13, 14), -0.8928601095486739),\n",
       "             ((14, 14), -0.84774212622754619),\n",
       "             ((13, 15), -0.76579143398468574),\n",
       "             ((14, 13), -0.80801406322802194),\n",
       "             ((12, 15), -0.86142632906073491),\n",
       "             ((14, 15), -0.84414306333189382)])"
      ]
     },
     "execution_count": 5,
     "metadata": {},
     "output_type": "execute_result"
    }
   ],
   "source": [
    "oks.iterator()"
   ]
  },
  {
   "cell_type": "markdown",
   "metadata": {},
   "source": [
    "We could clean the history and re-compute the points again. Or, we could also do single-point re-computation."
   ]
  },
  {
   "cell_type": "code",
   "execution_count": 8,
   "metadata": {},
   "outputs": [],
   "source": [
    "# oks.clean()\n",
    "# oks.compute_and_update(9, 9, recompute=True)"
   ]
  },
  {
   "cell_type": "markdown",
   "metadata": {},
   "source": [
    "Let's plot the trace of the heuristic."
   ]
  },
  {
   "cell_type": "code",
   "execution_count": 9,
   "metadata": {},
   "outputs": [
    {
     "data": {
      "image/png": "[encoded data removed]",
      "text/plain": [
       "<matplotlib.figure.Figure at 0x810aa8080>"
      ]
     },
     "metadata": {},
     "output_type": "display_data"
    }
   ],
   "source": [
    "import matplotlib.pyplot as plt\n",
    "from matplotlib import collections  as mc\n",
    "\n",
    "trace = list(oks.trace_mb.keys())\n",
    "lines = []\n",
    "for ind, i in enumerate(trace):\n",
    "    if ind != len(trace) - 1:\n",
    "        lines += [(trace[ind], trace[ind+1])]\n",
    "\n",
    "lc = mc.LineCollection(lines, linewidths=2)\n",
    "fig, ax = plt.subplots()\n",
    "ax.add_collection(lc)\n",
    "\n",
    "# Pink circle marks the optimal point (ka, kb)\n",
    "p_estimate = sorted(oks.confident_desc_len, key=oks.confident_desc_len.get)[0]\n",
    "ax.scatter(p_estimate[0], p_estimate[1], marker=\"o\", c=\"pink\", s=200, alpha=0.5)\n",
    "\n",
    "# Black numbers indicate ordered points where graph partition takes place\n",
    "for idx, point in enumerate(oks.confident_desc_len.keys()):\n",
    "    plt.scatter(point[0], point[1], marker='${}$'.format(idx), c=\"black\", edgecolors=\"none\", s=100)\n",
    "\n",
    "ax.autoscale()\n",
    "ax.margins(0.1)\n",
    "\n",
    "ax.set_aspect(1)\n",
    "plt.xlabel(\"number of type-a communities: ka\")\n",
    "plt.ylabel(\"number of type-b communities: kb\")\n",
    "plt.xticks(range(9, 16))\n",
    "plt.yticks(range(9, 16))\n",
    "\n",
    "plt.show()"
   ]
  },
  {
   "cell_type": "code",
   "execution_count": null,
   "metadata": {},
   "outputs": [],
   "source": []
  }
 ],
 "metadata": {
  "kernelspec": {
   "display_name": "Python 3",
   "language": "python",
   "name": "python3"
  },
  "language_info": {
   "codemirror_mode": {
    "name": "ipython",
    "version": 3
   },
   "file_extension": ".py",
   "mimetype": "text/x-python",
   "name": "python",
   "nbconvert_exporter": "python",
   "pygments_lexer": "ipython3",
   "version": "3.6.2"
  }
 },
 "nbformat": 4,
 "nbformat_minor": 2
}
